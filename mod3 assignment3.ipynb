{
 "cells": [
  {
   "cell_type": "markdown",
   "metadata": {},
   "source": [
    "program to get a single string from two given strings"
   ]
  },
  {
   "cell_type": "code",
   "execution_count": 1,
   "metadata": {},
   "outputs": [
    {
     "name": "stdout",
     "output_type": "stream",
     "text": [
      "enter a string rishi roshan\n",
      "r\n",
      "i\n",
      "s\n",
      "h\n",
      "i\n",
      " \n",
      "r\n",
      "o\n",
      "s\n",
      "h\n",
      "a\n",
      "n\n"
     ]
    }
   ],
   "source": [
    "s=str(input(\"enter a string \"))\n",
    "for i in s:\n",
    "    print(i,end='\\n')"
   ]
  },
  {
   "cell_type": "markdown",
   "metadata": {},
   "source": [
    "swapping of two numbers from two strings"
   ]
  },
  {
   "cell_type": "code",
   "execution_count": 2,
   "metadata": {},
   "outputs": [
    {
     "name": "stdout",
     "output_type": "stream",
     "text": [
      "enter a x string:kite\n",
      "entr a y string:mat\n",
      "mate kit\n"
     ]
    }
   ],
   "source": [
    "x=input(\"enter a x string:\")\n",
    "y=input(\"entr a y string:\")\n",
    "newx=y[:2]+x[2:]\n",
    "newy=x[:2]+y[2:]\n",
    "print(newx,newy)"
   ]
  },
  {
   "cell_type": "markdown",
   "metadata": {},
   "source": [
    "deletion of character"
   ]
  },
  {
   "cell_type": "code",
   "execution_count": 4,
   "metadata": {},
   "outputs": [
    {
     "name": "stdout",
     "output_type": "stream",
     "text": [
      "gitam\n"
     ]
    }
   ],
   "source": [
    "def remove(string,i):\n",
    "    a=string[:i]\n",
    "    b=string[i+1:]\n",
    "    return a+b\n",
    "print(remove(\"gitams\",5))"
   ]
  },
  {
   "cell_type": "markdown",
   "metadata": {},
   "source": [
    "removing a new line"
   ]
  },
  {
   "cell_type": "code",
   "execution_count": 5,
   "metadata": {},
   "outputs": [
    {
     "name": "stdout",
     "output_type": "stream",
     "text": [
      "the original list is:['gf\\ng', 'i\\ns', 'b\\np']\n",
      "after removing a new line:['gfg']\n",
      "after removing a new line:['gfg', 'is']\n",
      "after removing a new line:['gfg', 'is', 'bp']\n"
     ]
    }
   ],
   "source": [
    "list=['gf\\ng','i\\ns','b\\np']\n",
    "print(\"the original list is:\"+str(list))\n",
    "res=[]\n",
    "for i in list:\n",
    "    res.append(i.replace(\"\\n\",\"\"))\n",
    "    print(\"after removing a new line:\"+str(res))"
   ]
  },
  {
   "cell_type": "code",
   "execution_count": null,
   "metadata": {},
   "outputs": [],
   "source": []
  }
 ],
 "metadata": {
  "kernelspec": {
   "display_name": "Python 3",
   "language": "python",
   "name": "python3"
  },
  "language_info": {
   "codemirror_mode": {
    "name": "ipython",
    "version": 3
   },
   "file_extension": ".py",
   "mimetype": "text/x-python",
   "name": "python",
   "nbconvert_exporter": "python",
   "pygments_lexer": "ipython3",
   "version": "3.7.6"
  }
 },
 "nbformat": 4,
 "nbformat_minor": 4
}
